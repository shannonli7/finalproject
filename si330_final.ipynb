{
 "cells": [
  {
   "cell_type": "markdown",
   "metadata": {},
   "source": [
    "Final Project - Big Ten Softball (Michigan Focus)"
   ]
  },
  {
   "cell_type": "markdown",
   "metadata": {},
   "source": [
    "Partners: Shannon Li and Katelyn Lawton"
   ]
  },
  {
   "cell_type": "code",
   "execution_count": null,
   "metadata": {},
   "outputs": [],
   "source": [
    "import pandas as pd\n",
    "import numpy as np\n",
    "import matplotlib.pyplot as plt\n",
    "import re\n",
    "from scipy import stats"
   ]
  },
  {
   "cell_type": "markdown",
   "metadata": {},
   "source": [
    "Data Sources"
   ]
  },
  {
   "cell_type": "code",
   "execution_count": null,
   "metadata": {},
   "outputs": [],
   "source": [
    "pitching = pd.read_csv('michigan2021softballpitching.csv')\n",
    "fielding = pd.read_csv('michigan2021softballfielding.csv')\n",
    "hitting_game_by_game = pd.read_csv('mgoblue_data.csv')"
   ]
  },
  {
   "cell_type": "markdown",
   "metadata": {},
   "source": [
    "Data Cleaning"
   ]
  },
  {
   "cell_type": "code",
   "execution_count": null,
   "metadata": {},
   "outputs": [],
   "source": [
    "def name_fix(name):\n",
    "    split_name = name.strip().split()\n",
    "    if len(split_name) == 1:\n",
    "        return name.strip()\n",
    "    else:\n",
    "        if ',' in split_name[0]:\n",
    "            return name.strip()\n",
    "        else:\n",
    "            return split_name[1] + ', ' + split_name[0]\n",
    "\n",
    "hitting_game_by_game['Player'] = hitting_game_by_game['Player'].apply(name_fix)"
   ]
  },
  {
   "cell_type": "code",
   "execution_count": null,
   "metadata": {},
   "outputs": [],
   "source": [
    "def fix_position(pos):\n",
    "    if pos == None:\n",
    "        return None\n",
    "    else:\n",
    "        split_pos = pos.split('/')\n",
    "        if len(split_pos) == 1:\n",
    "            return pos\n",
    "        else:\n",
    "            if split_pos[0] in ['DP', 'PH', 'PR']:\n",
    "                if split_pos[1] in ['DP', 'PH', 'PR']:\n",
    "                    return split_pos[0]\n",
    "                else:\n",
    "                    return split_pos[1]\n",
    "            elif split_pos[1] in ['DP', 'PH', 'PR']:\n",
    "                return split_pos[0]\n",
    "            else:\n",
    "                return split_pos[0]\n",
    "        \n",
    "    \n",
    "hitting_game_by_game['Position'] = hitting_game_by_game['Position'].apply(fix_position)"
   ]
  },
  {
   "cell_type": "markdown",
   "metadata": {},
   "source": [
    "Merged DatFrames"
   ]
  },
  {
   "cell_type": "code",
   "execution_count": null,
   "metadata": {},
   "outputs": [],
   "source": [
    "hitting_fielding = pd.merge(hitting_game_by_game, fielding, how='left', on='Player')\n",
    "everything = pd.merge(hitting_fielding, pitching, how='left', on='Player')"
   ]
  },
  {
   "cell_type": "markdown",
   "metadata": {},
   "source": [
    "Clean up merged dataframe"
   ]
  },
  {
   "cell_type": "code",
   "execution_count": null,
   "metadata": {},
   "outputs": [],
   "source": [
    "everything = everything.rename(columns={'AB_x': 'at_bats', 'R_x':'runs', 'H_x': 'hits', 'RBI': 'RBI', '2B_x': '2B', '3B_x': '3B',\n",
    "                           'HR_x': 'homeruns', 'BB_x': 'base_on_balls', 'SB': 'sac_bunt', 'CS': 'caught_stealing', \n",
    "                           'HBP_x':'hit_by_pitch', 'SH': 'sac_hits', 'SF': 'sac_fly', 'SO_x': 'strikeouts', \n",
    "                           'KL': 'strikeouts_looking', 'GDP': 'ground_into_double', 'PO_x': 'putout', \n",
    "                           'A_x':'hitting_assists', 'PO_y': 'fielding_putouts', 'A_y': 'fielding_assists', \n",
    "                           'E': 'errors', 'FLD%': 'fielding_%', 'DP': 'double_play', 'SBA': 'stolen_bases_allowed',\n",
    "                           'PB': 'passed_balls', 'ERA': 'earned_run_average', 'W-L':'win_loss', \n",
    "                           'GP-GS': 'gamespitched_gamesstarted', 'CG': 'completed_game', 'SHO': 'shutout', \n",
    "                           'SV': 'save', 'IP': 'innings_pitched', 'H_y': 'pitching_hits', 'R_y': 'pitching_runs', \n",
    "                           'ER': 'earned_run', 'BB_y': 'pitching_base_on_balls', 'SO_y': 'pitching_SO', \n",
    "                           '2B_y': 'pitching_2B', '3B_y': 'pitching_3B', 'HR_y': 'pitching_homeruns', \n",
    "                           'AB_y': 'pitching_at_bats', 'WP': 'wild_pitch', \n",
    "                           'HBP_y': 'pitcher_hit_by_pitch', 'BK': 'balk'})"
   ]
  },
  {
   "cell_type": "markdown",
   "metadata": {},
   "source": [
    "Problem 1:\n",
    "    Look at a hollistic view of two successful players on the Michigan team, and caluclate their runs scored per game using a liner weights model. The Linear Weights model uses a multiple regression of offensive statistics to calculate estimated runs scored for a specific player."
   ]
  },
  {
   "cell_type": "markdown",
   "metadata": {},
   "source": [
    "Equation: RS = -50+OFFT[0.63(1B)+0.72(2B)+1.24(3B)+1.50(HR)+0.35(BB+HBP)+0.06(SB)+0.02(CS)]\n",
    "* No need to understand the equation, being able to apply the function is the improtant part"
   ]
  },
  {
   "cell_type": "code",
   "execution_count": null,
   "metadata": {},
   "outputs": [],
   "source": [
    "def batting_average(df):\n",
    "    if df['AB'] == 0:\n",
    "        return 0.0\n",
    "    else:\n",
    "        ba = df['H']/df['AB']\n",
    "        return ba\n",
    "    \n",
    "hitting_game_by_game['batting_average'] = hitting_game_by_game.apply(batting_average, axis=1)"
   ]
  },
  {
   "cell_type": "code",
   "execution_count": null,
   "metadata": {},
   "outputs": [],
   "source": [
    "michigan_df = hitting_game_by_game[hitting_game_by_game[\"Team\"] == \"Michigan\"]"
   ]
  },
  {
   "cell_type": "code",
   "execution_count": null,
   "metadata": {},
   "outputs": [],
   "source": [
    "blair = michigan_df[michigan_df[\"Player\"] == 'Blair, Lexie']\n",
    "rodriguez = michigan_df[michigan_df[\"Player\"] == 'Rodriguez, Natalia']"
   ]
  },
  {
   "cell_type": "code",
   "execution_count": null,
   "metadata": {},
   "outputs": [],
   "source": [
    "singles = blair['H'].sum() - (blair['2B'].sum()+blair['3B'].sum()+blair['HR'].sum())\n",
    "OUTSP=0.982 * (blair['AB'].sum())-blair['H'].sum()+blair['GDP'].sum()+blair['SF'].sum()+blair['SB'].sum()+blair['CS'].sum()\n",
    "OFFT = (1/OUTSP) * 410\n",
    "RS = -50 + OFFT * (0.63 * (singles) + 0.72 * (blair['2B'].sum()+1.24*(blair['3B'].sum())+1.50*(blair['HR'].sum())+0.35*(blair['BB'].sum()+blair['HBP'].sum())+0.06*(blair['SB'].sum())+0.02*(blair['CS'].sum())))\n",
    "runs_per_game = RS/20\n",
    "runs_per_game"
   ]
  },
  {
   "cell_type": "code",
   "execution_count": null,
   "metadata": {},
   "outputs": [],
   "source": [
    "singles = rodriguez['H'].sum() - (rodriguez['2B'].sum()+rodriguez['3B'].sum()+rodriguez['HR'].sum())\n",
    "OUTSP=0.982 * (rodriguez['AB'].sum())-rodriguez['H'].sum()+rodriguez['GDP'].sum()+rodriguez['SF'].sum()+rodriguez['SB'].sum()+rodriguez['CS'].sum()\n",
    "OFFT = (1/OUTSP) * 410\n",
    "RS = -50 + OFFT * (0.63 * (singles) + 0.72 * (rodriguez['2B'].sum()+1.24*(rodriguez['3B'].sum())+1.50*(rodriguez['HR'].sum())+0.35*(rodriguez['BB'].sum()+rodriguez['HBP'].sum())+0.06*(rodriguez['SB'].sum())+0.02*(rodriguez['CS'].sum())))\n",
    "runs_per_game = RS/20\n",
    "runs_per_game"
   ]
  },
  {
   "cell_type": "markdown",
   "metadata": {},
   "source": [
    "Comparing Lexie Blair and Natalia Rodriguez runs scored per game it can be seen that Lexie Blair has a stronger ofeensive output than Natalia Rodriguez despite Natalia being known as an effective offense output. By looking at this statistic it can bee seen that even though they are both offensively productive, Lexie Blair is better in game scenarios with runners on base"
   ]
  },
  {
   "cell_type": "markdown",
   "metadata": {},
   "source": [
    "Problem 2: Comapring offensive and defensive data"
   ]
  },
  {
   "cell_type": "code",
   "execution_count": null,
   "metadata": {},
   "outputs": [],
   "source": [
    "hitting_fielding = pd.merge(hitting_game_by_game, fielding, how='right', on='Player')\n",
    "michigan_hitting_fielding = hitting_fielding[hitting_fielding[\"Team\"] == \"Michigan\"]"
   ]
  },
  {
   "cell_type": "code",
   "execution_count": null,
   "metadata": {},
   "outputs": [],
   "source": [
    "BA_group = michigan_hitting_fielding.groupby(\"game_id\").agg({'batting_average': np.nanmean})"
   ]
  },
  {
   "cell_type": "code",
   "execution_count": null,
   "metadata": {},
   "outputs": [],
   "source": [
    "michigan_batting_average = list(BA_group[\"batting_average\"])"
   ]
  },
  {
   "cell_type": "code",
   "execution_count": null,
   "metadata": {},
   "outputs": [],
   "source": [
    "FLD_group = michigan_hitting_fielding.groupby(\"game_id\").agg({'FLD%': np.nanmean})"
   ]
  },
  {
   "cell_type": "code",
   "execution_count": null,
   "metadata": {},
   "outputs": [],
   "source": [
    "michigan_fielding_percentages = list(FLD_group[\"FLD%\"])"
   ]
  },
  {
   "cell_type": "code",
   "execution_count": null,
   "metadata": {},
   "outputs": [],
   "source": [
    "game_id = BA_group.index"
   ]
  },
  {
   "cell_type": "code",
   "execution_count": null,
   "metadata": {},
   "outputs": [],
   "source": [
    "df = pd.DataFrame({\n",
    "   'offense': michigan_batting_average,\n",
    "   'defense': michigan_fielding_percentages\n",
    "   }, index=game_id)\n",
    "\n",
    "df.plot(colormap='jet', marker='.', markersize=10,figsize=(18,5), title='Michigan Batting Average and Fielding Percentage');\n",
    "plt.xlabel('Game ID')\n",
    "plt.ylabel('Batting Average and Fielding Percentage')\n",
    "plt.show()"
   ]
  },
  {
   "cell_type": "markdown",
   "metadata": {},
   "source": [
    "Problem 3: Do infield player have better BA than outfield players"
   ]
  },
  {
   "cell_type": "code",
   "execution_count": null,
   "metadata": {},
   "outputs": [],
   "source": [
    "michigan_hf = hitting_fielding[hitting_fielding['Team']=='Michigan']"
   ]
  },
  {
   "cell_type": "code",
   "execution_count": null,
   "metadata": {},
   "outputs": [],
   "source": [
    "def in_or_out(pos):\n",
    "    if re.match(r'(LF|RF|CF)', pos) != None:\n",
    "        return 'outfield'\n",
    "    elif re.match(r'(1B|2B|3B|SS|c|P)', pos) != None:\n",
    "        return 'infield'\n",
    "    else:\n",
    "        return 'flex'    "
   ]
  },
  {
   "cell_type": "code",
   "execution_count": null,
   "metadata": {},
   "outputs": [],
   "source": [
    "michigan_hf['in_out'] = michigan_hf['Position'].apply(in_or_out)"
   ]
  },
  {
   "cell_type": "code",
   "execution_count": null,
   "metadata": {},
   "outputs": [],
   "source": [
    "infield = michigan_hf[michigan_hf[\"in_out\"] == \"infield\"][\"batting_average\"]\n",
    "outfield = michigan_hf[michigan_hf[\"in_out\"] == \"outfield\"][\"batting_average\"]\n",
    "\n",
    "print(sum(infield)/infield.count())\n",
    "print(sum(outfield)/outfield.count())\n",
    "\n",
    "t_test = stats.ttest_ind(infield, outfield)\n",
    "p_value = t_test.pvalue\n",
    "print(p_value)\n",
    "\n",
    "if p_value < 0.05:\n",
    "    print(\"we reject the null hypothesis that the infield players have similar batting averages to outfielders\")\n",
    "else:\n",
    "    print(\"we accept the null hypothesis that the infield players have similar batting averages to outfielders\")\n"
   ]
  },
  {
   "cell_type": "markdown",
   "metadata": {},
   "source": [
    "Problem 4: Runs created"
   ]
  },
  {
   "cell_type": "code",
   "execution_count": null,
   "metadata": {},
   "outputs": [],
   "source": [
    "michigan_h = hitting_game_by_game[hitting_game_by_game['Team']=='Michigan']"
   ]
  },
  {
   "cell_type": "code",
   "execution_count": null,
   "metadata": {},
   "outputs": [],
   "source": [
    "michigan_h['TB'] = (michigan_h['H']-michigan_h['2B']-michigan_h['3B']-michigan_h['HR']) + (2*michigan_h['2B']) + (3*michigan_h['3B']) + (4*michigan_h['HR'])\n",
    "michigan_h['Runs_created'] = ((michigan_h['H']+michigan_h['BB']+michigan_h['HBP'])*michigan_h['TB'])/(michigan_h['AB']+michigan_h['BB']+michigan_h['HBP'])"
   ]
  },
  {
   "cell_type": "code",
   "execution_count": null,
   "metadata": {},
   "outputs": [],
   "source": [
    "#to get one date, I aggegrated by average of the runs created - is that okay or would that be a problem?\n",
    "grouped_michigan_h = michigan_h.groupby(\"Date\").agg({\"Runs_created\":np.nanmean})\n",
    "dates = grouped_michigan_h.index\n",
    "runs_created_by_player_data = list(grouped_michigan_h[\"Runs_created\"])"
   ]
  },
  {
   "cell_type": "code",
   "execution_count": null,
   "metadata": {},
   "outputs": [],
   "source": [
    "not_michigan_h = hitting_game_by_game[hitting_game_by_game['Team']!='Michigan']"
   ]
  },
  {
   "cell_type": "code",
   "execution_count": null,
   "metadata": {},
   "outputs": [],
   "source": [
    "not_michigan_h['TB'] = (not_michigan_h['H']-not_michigan_h['2B']-not_michigan_h['3B']-not_michigan_h['HR']) + (2*not_michigan_h['2B']) + (3*not_michigan_h['3B']) + (4*not_michigan_h['HR'])\n",
    "not_michigan_h['Runs_created'] = ((not_michigan_h['H']+not_michigan_h['BB']+not_michigan_h['HBP'])*not_michigan_h['TB'])/(not_michigan_h['AB']+not_michigan_h['BB']+not_michigan_h['HBP'])"
   ]
  },
  {
   "cell_type": "code",
   "execution_count": null,
   "metadata": {},
   "outputs": [],
   "source": [
    "grouped_not_michigan_h = not_michigan_h.groupby(\"Date\").agg({\"Runs_created\":np.nanmean})\n",
    "dates = grouped_not_michigan_h.index\n",
    "runs_created_by_player_data_not_michigan = list(grouped_not_michigan_h[\"Runs_created\"])"
   ]
  },
  {
   "cell_type": "code",
   "execution_count": null,
   "metadata": {},
   "outputs": [],
   "source": [
    "df = pd.DataFrame({\n",
    "    'runs_michigan': runs_created_by_player_data,\n",
    "    'runs_not_michigan': runs_created_by_player_data_not_michigan\n",
    "   }, index=dates)\n",
    "\n",
    "df.plot(colormap\n",
    "        ='jet', marker='.', markersize=10,figsize=(18,5), title='Runs Created Over Time');\n",
    "plt.xlabel('Dates')\n",
    "plt.ylabel('Runs Created')\n",
    "plt.show()"
   ]
  },
  {
   "cell_type": "markdown",
   "metadata": {},
   "source": [
    "Problem 5: Using pivot tables to compare collective batting average of player by position for each Big Ten Team"
   ]
  },
  {
   "cell_type": "markdown",
   "metadata": {},
   "source": [
    "To just wrap up with a simple problem, we wanted to looking at battnig averages across teams by position"
   ]
  },
  {
   "cell_type": "code",
   "execution_count": null,
   "metadata": {},
   "outputs": [],
   "source": [
    "piv = hitting_game_by_game.pivot_table(values='batting_average', index=['Team', 'Position'], aggfunc=[np.mean])\n",
    "\n",
    "piv.unstack()"
   ]
  },
  {
   "cell_type": "markdown",
   "metadata": {},
   "source": [
    "Test Cases"
   ]
  },
  {
   "cell_type": "code",
   "execution_count": null,
   "metadata": {},
   "outputs": [],
   "source": [
    "def text_name_fix():\n",
    "    for name in michigan_df['Player']:\n",
    "        assert len(name.split(\", \")) == 2\n",
    "        \n",
    "def offense_and_defense():\n",
    "    for count in range(len(michigan_batting_average)):\n",
    "        assert michigan_batting_average[count] < michigan_fielding_percentages[count], \"defense should be higher\"\n",
    "\n",
    "def test_num_dates():\n",
    "    assert len(dates) == 13, \"Should be 13\"\n",
    "    \n",
    "def test_runs_created():\n",
    "    for val in runs_created_by_player_data:\n",
    "        assert val >= 0, \"Test does not work\"\n",
    "        \n",
    "def test_batting_average():\n",
    "    for average in hitting_game_by_game['batting_average']:\n",
    "        assert average >= 0.0 and average <= 1.0\n",
    "        assert type(average) == float\n",
    "        \n",
    "def test_hitting_fielding():\n",
    "    index = michigan_df.index\n",
    "    number_of_rows = len(index)\n",
    "    assert number_of_rows == 263\n",
    "    \n",
    "def test_fix_position():\n",
    "    for pos in hitting_game_by_game['Position']:\n",
    "        if pos != None:\n",
    "            assert len(pos) == 1 or len(pos) == 2\n",
    "    \n",
    "if __name__ == \"__main__\":\n",
    "#     text_name_fix()\n",
    "    offense_and_defense()\n",
    "    test_num_dates()\n",
    "    test_runs_created()\n",
    "    test_num_dates()\n",
    "    test_batting_average()\n",
    "    test_hitting_fielding()\n",
    "    test_fix_position()\n",
    "    print(\"Everything passed\")"
   ]
  }
 ],
 "metadata": {
  "kernelspec": {
   "display_name": "Python 3",
   "language": "python",
   "name": "python3"
  },
  "language_info": {
   "codemirror_mode": {
    "name": "ipython",
    "version": 3
   },
   "file_extension": ".py",
   "mimetype": "text/x-python",
   "name": "python",
   "nbconvert_exporter": "python",
   "pygments_lexer": "ipython3",
   "version": "3.7.3"
  }
 },
 "nbformat": 4,
 "nbformat_minor": 4
}
